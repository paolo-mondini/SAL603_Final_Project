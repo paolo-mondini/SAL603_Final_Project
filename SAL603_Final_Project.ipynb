{
 "cells": [
  {
   "cell_type": "code",
   "execution_count": 103,
   "id": "8e13053f-a776-4e76-827f-b53b413d8d3c",
   "metadata": {},
   "outputs": [],
   "source": [
    "# Historical NFL Draft Analysis of Each NFL Franchise Using Pro Football Reference's Career Weighted Approximate Value (wAV)\n",
    "# Paolo Mondini"
   ]
  },
  {
   "cell_type": "code",
   "execution_count": 37,
   "id": "afb976c7-c861-455e-bc02-cb720eb7a155",
   "metadata": {},
   "outputs": [],
   "source": [
    "from IPython.core.interactiveshell import InteractiveShell\n",
    "InteractiveShell.ast_node_interactivity = \"all\"\n",
    "import numpy as np\n",
    "import pandas as pd\n",
    "import matplotlib.pyplot as plt"
   ]
  },
  {
   "cell_type": "code",
   "execution_count": 107,
   "id": "3686e1b7-0845-475a-8e5f-d65b1c60a5ad",
   "metadata": {},
   "outputs": [
    {
     "data": {
      "text/html": [
       "<div>\n",
       "<style scoped>\n",
       "    .dataframe tbody tr th:only-of-type {\n",
       "        vertical-align: middle;\n",
       "    }\n",
       "\n",
       "    .dataframe tbody tr th {\n",
       "        vertical-align: top;\n",
       "    }\n",
       "\n",
       "    .dataframe thead th {\n",
       "        text-align: right;\n",
       "    }\n",
       "</style>\n",
       "<table border=\"1\" class=\"dataframe\">\n",
       "  <thead>\n",
       "    <tr style=\"text-align: right;\">\n",
       "      <th></th>\n",
       "      <th>Team</th>\n",
       "      <th>Year</th>\n",
       "      <th>Rnd</th>\n",
       "      <th>Player</th>\n",
       "      <th>Pick</th>\n",
       "      <th>Pos</th>\n",
       "      <th>To</th>\n",
       "      <th>AP1</th>\n",
       "      <th>PB</th>\n",
       "      <th>St</th>\n",
       "      <th>...</th>\n",
       "      <th>RushAtt</th>\n",
       "      <th>RushYds</th>\n",
       "      <th>RushTD</th>\n",
       "      <th>Rec</th>\n",
       "      <th>RecYds</th>\n",
       "      <th>RecTD</th>\n",
       "      <th>Int</th>\n",
       "      <th>Sk</th>\n",
       "      <th>College/Univ</th>\n",
       "      <th>PlayerID</th>\n",
       "    </tr>\n",
       "  </thead>\n",
       "  <tbody>\n",
       "    <tr>\n",
       "      <th>0</th>\n",
       "      <td>Patriots</td>\n",
       "      <td>2000</td>\n",
       "      <td>6</td>\n",
       "      <td>Tom Brady</td>\n",
       "      <td>199</td>\n",
       "      <td>QB</td>\n",
       "      <td>2022.0</td>\n",
       "      <td>3</td>\n",
       "      <td>15</td>\n",
       "      <td>21</td>\n",
       "      <td>...</td>\n",
       "      <td>693.0</td>\n",
       "      <td>1123.0</td>\n",
       "      <td>28.0</td>\n",
       "      <td>3.0</td>\n",
       "      <td>65.0</td>\n",
       "      <td>0.0</td>\n",
       "      <td>NaN</td>\n",
       "      <td>NaN</td>\n",
       "      <td>Michigan</td>\n",
       "      <td>BradTo00</td>\n",
       "    </tr>\n",
       "    <tr>\n",
       "      <th>1</th>\n",
       "      <td>Colts</td>\n",
       "      <td>1998</td>\n",
       "      <td>1</td>\n",
       "      <td>Peyton Manning HOF</td>\n",
       "      <td>1</td>\n",
       "      <td>QB</td>\n",
       "      <td>2015.0</td>\n",
       "      <td>7</td>\n",
       "      <td>14</td>\n",
       "      <td>17</td>\n",
       "      <td>...</td>\n",
       "      <td>431.0</td>\n",
       "      <td>667.0</td>\n",
       "      <td>18.0</td>\n",
       "      <td>1.0</td>\n",
       "      <td>-2.0</td>\n",
       "      <td>0.0</td>\n",
       "      <td>NaN</td>\n",
       "      <td>NaN</td>\n",
       "      <td>Tennessee</td>\n",
       "      <td>MannPe00</td>\n",
       "    </tr>\n",
       "    <tr>\n",
       "      <th>2</th>\n",
       "      <td>Chargers</td>\n",
       "      <td>2001</td>\n",
       "      <td>2</td>\n",
       "      <td>Drew Brees</td>\n",
       "      <td>32</td>\n",
       "      <td>QB</td>\n",
       "      <td>2020.0</td>\n",
       "      <td>1</td>\n",
       "      <td>13</td>\n",
       "      <td>19</td>\n",
       "      <td>...</td>\n",
       "      <td>498.0</td>\n",
       "      <td>752.0</td>\n",
       "      <td>25.0</td>\n",
       "      <td>8.0</td>\n",
       "      <td>74.0</td>\n",
       "      <td>1.0</td>\n",
       "      <td>NaN</td>\n",
       "      <td>NaN</td>\n",
       "      <td>Purdue</td>\n",
       "      <td>BreeDr00</td>\n",
       "    </tr>\n",
       "    <tr>\n",
       "      <th>3</th>\n",
       "      <td>Packers</td>\n",
       "      <td>2005</td>\n",
       "      <td>1</td>\n",
       "      <td>Aaron Rodgers</td>\n",
       "      <td>24</td>\n",
       "      <td>QB</td>\n",
       "      <td>2024.0</td>\n",
       "      <td>4</td>\n",
       "      <td>10</td>\n",
       "      <td>15</td>\n",
       "      <td>...</td>\n",
       "      <td>741.0</td>\n",
       "      <td>3573.0</td>\n",
       "      <td>35.0</td>\n",
       "      <td>3.0</td>\n",
       "      <td>-11.0</td>\n",
       "      <td>0.0</td>\n",
       "      <td>NaN</td>\n",
       "      <td>NaN</td>\n",
       "      <td>California</td>\n",
       "      <td>RodgAa00</td>\n",
       "    </tr>\n",
       "    <tr>\n",
       "      <th>4</th>\n",
       "      <td>Ravens</td>\n",
       "      <td>1996</td>\n",
       "      <td>1</td>\n",
       "      <td>Ray Lewis HOF</td>\n",
       "      <td>26</td>\n",
       "      <td>LB</td>\n",
       "      <td>2012.0</td>\n",
       "      <td>7</td>\n",
       "      <td>12</td>\n",
       "      <td>14</td>\n",
       "      <td>...</td>\n",
       "      <td>NaN</td>\n",
       "      <td>NaN</td>\n",
       "      <td>0.0</td>\n",
       "      <td>NaN</td>\n",
       "      <td>NaN</td>\n",
       "      <td>0.0</td>\n",
       "      <td>31.0</td>\n",
       "      <td>41.5</td>\n",
       "      <td>Miami (FL)</td>\n",
       "      <td>LewiRa00</td>\n",
       "    </tr>\n",
       "    <tr>\n",
       "      <th>...</th>\n",
       "      <td>...</td>\n",
       "      <td>...</td>\n",
       "      <td>...</td>\n",
       "      <td>...</td>\n",
       "      <td>...</td>\n",
       "      <td>...</td>\n",
       "      <td>...</td>\n",
       "      <td>...</td>\n",
       "      <td>...</td>\n",
       "      <td>...</td>\n",
       "      <td>...</td>\n",
       "      <td>...</td>\n",
       "      <td>...</td>\n",
       "      <td>...</td>\n",
       "      <td>...</td>\n",
       "      <td>...</td>\n",
       "      <td>...</td>\n",
       "      <td>...</td>\n",
       "      <td>...</td>\n",
       "      <td>...</td>\n",
       "      <td>...</td>\n",
       "    </tr>\n",
       "    <tr>\n",
       "      <th>17895</th>\n",
       "      <td>Buccaneers</td>\n",
       "      <td>1984</td>\n",
       "      <td>10</td>\n",
       "      <td>Jim Gallery</td>\n",
       "      <td>254</td>\n",
       "      <td>K</td>\n",
       "      <td>1990.0</td>\n",
       "      <td>0</td>\n",
       "      <td>0</td>\n",
       "      <td>0</td>\n",
       "      <td>...</td>\n",
       "      <td>NaN</td>\n",
       "      <td>NaN</td>\n",
       "      <td>0.0</td>\n",
       "      <td>NaN</td>\n",
       "      <td>NaN</td>\n",
       "      <td>0.0</td>\n",
       "      <td>NaN</td>\n",
       "      <td>NaN</td>\n",
       "      <td>Minnesota</td>\n",
       "      <td>gallejam01</td>\n",
       "    </tr>\n",
       "    <tr>\n",
       "      <th>17896</th>\n",
       "      <td>Patriots</td>\n",
       "      <td>2001</td>\n",
       "      <td>7</td>\n",
       "      <td>Owen Pochman</td>\n",
       "      <td>216</td>\n",
       "      <td>K</td>\n",
       "      <td>2003.0</td>\n",
       "      <td>0</td>\n",
       "      <td>0</td>\n",
       "      <td>0</td>\n",
       "      <td>...</td>\n",
       "      <td>NaN</td>\n",
       "      <td>NaN</td>\n",
       "      <td>0.0</td>\n",
       "      <td>NaN</td>\n",
       "      <td>NaN</td>\n",
       "      <td>0.0</td>\n",
       "      <td>NaN</td>\n",
       "      <td>NaN</td>\n",
       "      <td>BYU</td>\n",
       "      <td>pochmowe01</td>\n",
       "    </tr>\n",
       "    <tr>\n",
       "      <th>17897</th>\n",
       "      <td>Bills</td>\n",
       "      <td>1968</td>\n",
       "      <td>13</td>\n",
       "      <td>Dan Darragh</td>\n",
       "      <td>336</td>\n",
       "      <td>QB</td>\n",
       "      <td>1970.0</td>\n",
       "      <td>0</td>\n",
       "      <td>0</td>\n",
       "      <td>1</td>\n",
       "      <td>...</td>\n",
       "      <td>20.0</td>\n",
       "      <td>51.0</td>\n",
       "      <td>0.0</td>\n",
       "      <td>NaN</td>\n",
       "      <td>NaN</td>\n",
       "      <td>0.0</td>\n",
       "      <td>NaN</td>\n",
       "      <td>NaN</td>\n",
       "      <td>William &amp; Mary</td>\n",
       "      <td>DarrDa00</td>\n",
       "    </tr>\n",
       "    <tr>\n",
       "      <th>17898</th>\n",
       "      <td>Eagles</td>\n",
       "      <td>1971</td>\n",
       "      <td>4</td>\n",
       "      <td>Happy Feller</td>\n",
       "      <td>83</td>\n",
       "      <td>K</td>\n",
       "      <td>1973.0</td>\n",
       "      <td>0</td>\n",
       "      <td>0</td>\n",
       "      <td>0</td>\n",
       "      <td>...</td>\n",
       "      <td>NaN</td>\n",
       "      <td>NaN</td>\n",
       "      <td>0.0</td>\n",
       "      <td>NaN</td>\n",
       "      <td>NaN</td>\n",
       "      <td>0.0</td>\n",
       "      <td>NaN</td>\n",
       "      <td>NaN</td>\n",
       "      <td>Texas</td>\n",
       "      <td>FellHa20</td>\n",
       "    </tr>\n",
       "    <tr>\n",
       "      <th>17899</th>\n",
       "      <td>Cardinals</td>\n",
       "      <td>2012</td>\n",
       "      <td>6</td>\n",
       "      <td>Ryan Lindley</td>\n",
       "      <td>185</td>\n",
       "      <td>QB</td>\n",
       "      <td>2015.0</td>\n",
       "      <td>0</td>\n",
       "      <td>0</td>\n",
       "      <td>0</td>\n",
       "      <td>...</td>\n",
       "      <td>4.0</td>\n",
       "      <td>7.0</td>\n",
       "      <td>0.0</td>\n",
       "      <td>NaN</td>\n",
       "      <td>NaN</td>\n",
       "      <td>0.0</td>\n",
       "      <td>NaN</td>\n",
       "      <td>NaN</td>\n",
       "      <td>San Diego St.</td>\n",
       "      <td>LindRy00</td>\n",
       "    </tr>\n",
       "  </tbody>\n",
       "</table>\n",
       "<p>17900 rows × 27 columns</p>\n",
       "</div>"
      ],
      "text/plain": [
       "             Team  Year  Rnd              Player  Pick Pos      To  AP1  PB  \\\n",
       "0        Patriots  2000    6           Tom Brady   199  QB  2022.0    3  15   \n",
       "1           Colts  1998    1  Peyton Manning HOF     1  QB  2015.0    7  14   \n",
       "2        Chargers  2001    2          Drew Brees    32  QB  2020.0    1  13   \n",
       "3         Packers  2005    1       Aaron Rodgers    24  QB  2024.0    4  10   \n",
       "4          Ravens  1996    1       Ray Lewis HOF    26  LB  2012.0    7  12   \n",
       "...           ...   ...  ...                 ...   ...  ..     ...  ...  ..   \n",
       "17895  Buccaneers  1984   10         Jim Gallery   254   K  1990.0    0   0   \n",
       "17896    Patriots  2001    7        Owen Pochman   216   K  2003.0    0   0   \n",
       "17897       Bills  1968   13         Dan Darragh   336  QB  1970.0    0   0   \n",
       "17898      Eagles  1971    4        Happy Feller    83   K  1973.0    0   0   \n",
       "17899   Cardinals  2012    6        Ryan Lindley   185  QB  2015.0    0   0   \n",
       "\n",
       "       St  ...  RushAtt  RushYds  RushTD  Rec  RecYds  RecTD   Int    Sk  \\\n",
       "0      21  ...    693.0   1123.0    28.0  3.0    65.0    0.0   NaN   NaN   \n",
       "1      17  ...    431.0    667.0    18.0  1.0    -2.0    0.0   NaN   NaN   \n",
       "2      19  ...    498.0    752.0    25.0  8.0    74.0    1.0   NaN   NaN   \n",
       "3      15  ...    741.0   3573.0    35.0  3.0   -11.0    0.0   NaN   NaN   \n",
       "4      14  ...      NaN      NaN     0.0  NaN     NaN    0.0  31.0  41.5   \n",
       "...    ..  ...      ...      ...     ...  ...     ...    ...   ...   ...   \n",
       "17895   0  ...      NaN      NaN     0.0  NaN     NaN    0.0   NaN   NaN   \n",
       "17896   0  ...      NaN      NaN     0.0  NaN     NaN    0.0   NaN   NaN   \n",
       "17897   1  ...     20.0     51.0     0.0  NaN     NaN    0.0   NaN   NaN   \n",
       "17898   0  ...      NaN      NaN     0.0  NaN     NaN    0.0   NaN   NaN   \n",
       "17899   0  ...      4.0      7.0     0.0  NaN     NaN    0.0   NaN   NaN   \n",
       "\n",
       "         College/Univ    PlayerID  \n",
       "0            Michigan    BradTo00  \n",
       "1           Tennessee    MannPe00  \n",
       "2              Purdue    BreeDr00  \n",
       "3          California    RodgAa00  \n",
       "4          Miami (FL)    LewiRa00  \n",
       "...               ...         ...  \n",
       "17895       Minnesota  gallejam01  \n",
       "17896             BYU  pochmowe01  \n",
       "17897  William & Mary    DarrDa00  \n",
       "17898           Texas    FellHa20  \n",
       "17899   San Diego St.    LindRy00  \n",
       "\n",
       "[17900 rows x 27 columns]"
      ]
     },
     "execution_count": 107,
     "metadata": {},
     "output_type": "execute_result"
    }
   ],
   "source": [
    "# Every player drafted in the NFL from 1967-2024\n",
    "df = pd.read_csv(\"final_project_data.csv\")\n",
    "df"
   ]
  },
  {
   "cell_type": "code",
   "execution_count": 109,
   "id": "3a2b8d03-952f-4113-bfc2-0ac54732ffe2",
   "metadata": {},
   "outputs": [],
   "source": [
    "# Remove rows where 'G' (Games Played) is NaN\n",
    "# This helped balance out all the players in the 60s/70s that were drafted that never played a game since some years there were 20 rounds\n",
    "df = df.dropna(subset=['G'])"
   ]
  },
  {
   "cell_type": "code",
   "execution_count": 111,
   "id": "86c24bfe-dade-4503-b2c6-35b3e4f09b3b",
   "metadata": {},
   "outputs": [
    {
     "name": "stdout",
     "output_type": "stream",
     "text": [
      "            Total Draft Picks  Total wAV  wAV Per Draft Pick\n",
      "Steelers                  488    10322.0           21.151639\n",
      "Cowboys                   462     9535.0           20.638528\n",
      "Dolphins                  453     9154.0           20.207506\n",
      "Ravens                    222     4453.0           20.058559\n",
      "Patriots                  471     9061.0           19.237792\n",
      "49ers                     453     8698.0           19.200883\n",
      "Colts                     455     8693.0           19.105495\n",
      "Vikings                   430     8209.0           19.090698\n",
      "Seahawks                  360     6815.0           18.930556\n",
      "Panthers                  201     3788.0           18.845771\n",
      "Rams                      474     8928.0           18.835443\n",
      "Saints                    416     7775.0           18.689904\n",
      "Packers                   486     9053.0           18.627572\n",
      "Lions                     430     7887.0           18.341860\n",
      "Giants                    422     7723.0           18.300948\n",
      "Eagles                    432     7902.0           18.291667\n",
      "Bengals                   516     9391.0           18.199612\n",
      "Broncos                   434     7874.0           18.142857\n",
      "Bears                     432     7822.0           18.106481\n",
      "Titans                    489     8837.0           18.071575\n",
      "Raiders                   423     7594.0           17.952719\n",
      "Buccaneers                362     6489.0           17.925414\n",
      "Jets                      446     7929.0           17.778027\n",
      "Bills                     469     8330.0           17.761194\n",
      "Chargers                  433     7649.0           17.665127\n",
      "Cardinals                 458     8058.0           17.593886\n",
      "Falcons                   434     7498.0           17.276498\n",
      "Chiefs                    424     7256.0           17.113208\n",
      "Texans                    166     2755.0           16.596386\n",
      "Jaguars                   231     3801.0           16.454545\n",
      "Commanders                359     5890.0           16.406685\n",
      "Browns                    425     6937.0           16.322353\n"
     ]
    }
   ],
   "source": [
    "# Table showing each NFL franchises total draft picks, total wAV, & wAV Per Draft Pick\n",
    "# This shows, in general, which NFL franchises have historically drafted the best players\n",
    "team_draft_stats = {}\n",
    "\n",
    "for team in df['Team'].unique():\n",
    "    team_df = df[df['Team'] == team]\n",
    "    total_picks = len(team_df)\n",
    "    total_wAV = team_df['wAV'].sum()\n",
    "    wAV_per_pick = total_wAV / total_picks \n",
    "    \n",
    "    team_draft_stats[team] = {\n",
    "        'Total Draft Picks': total_picks,\n",
    "        'Total wAV': total_wAV,\n",
    "        'wAV Per Draft Pick': wAV_per_pick\n",
    "    }\n",
    "\n",
    "team_draft_df = pd.DataFrame.from_dict(team_draft_stats, orient='index')\n",
    "team_draft_df = team_draft_df.sort_values(by='wAV Per Draft Pick', ascending=False)\n",
    "\n",
    "print(team_draft_df)"
   ]
  },
  {
   "cell_type": "code",
   "execution_count": 113,
   "id": "c1f1e6c2-6b62-4e15-9416-345134a88ab4",
   "metadata": {},
   "outputs": [
    {
     "data": {
      "text/plain": [
       "<Axes: title={'center': 'wAV Per Draft Pick'}>"
      ]
     },
     "execution_count": 113,
     "metadata": {},
     "output_type": "execute_result"
    },
    {
     "data": {
      "text/plain": [
       "Text(0, 0.5, 'wAV Per Draft Pick')"
      ]
     },
     "execution_count": 113,
     "metadata": {},
     "output_type": "execute_result"
    },
    {
     "data": {
      "text/plain": [
       "Text(0.5, 0, 'Team')"
      ]
     },
     "execution_count": 113,
     "metadata": {},
     "output_type": "execute_result"
    },
    {
     "data": {
      "image/png": "[encoded data removed]",
      "text/plain": [
       "<Figure size 1200x600 with 1 Axes>"
      ]
     },
     "metadata": {},
     "output_type": "display_data"
    }
   ],
   "source": [
    "# Bar chart of wAV Per Draft Pick from table above\n",
    "team_draft_df['wAV Per Draft Pick'].plot(kind='bar', figsize=(12,6), title='wAV Per Draft Pick')\n",
    "plt.ylabel('wAV Per Draft Pick')\n",
    "plt.xlabel('Team')\n",
    "plt.show()\n",
    "plt.close()"
   ]
  },
  {
   "cell_type": "code",
   "execution_count": 117,
   "id": "dc59de6a-cdd9-418c-81b2-8e1a3a6fa2d5",
   "metadata": {},
   "outputs": [
    {
     "name": "stdout",
     "output_type": "stream",
     "text": [
      "       Team  wAV Per Draft Pick\n",
      "1    Ravens           52.125000\n",
      "2    Giants           34.132075\n",
      "3  Steelers           24.371429\n",
      "4   Packers           21.351852\n",
      "5   Packers           16.819672\n",
      "6  Steelers           15.482143\n",
      "7    Eagles           14.767442\n"
     ]
    }
   ],
   "source": [
    "# Table showing which teams have drafted the best in each round of the NFL Draft based on wAV Per Draft Pick\n",
    "best_team_per_round = {}\n",
    "\n",
    "for round_num in range(1, 8):\n",
    "    round_df = df[df['Rnd'] == round_num]\n",
    "    round_team_stats = {}\n",
    "    \n",
    "    for team in round_df['Team'].unique():\n",
    "        team_round_df = round_df[round_df['Team'] == team]\n",
    "        total_picks = len(team_round_df)\n",
    "        total_wAV = team_round_df['wAV'].sum()\n",
    "        wAV_per_pick = total_wAV / total_picks\n",
    "        \n",
    "        round_team_stats[team] = wAV_per_pick\n",
    "    \n",
    "    if round_team_stats:\n",
    "        best_team = max(round_team_stats, key=round_team_stats.get)\n",
    "        best_team_per_round[round_num] = (best_team, round_team_stats[best_team])\n",
    "\n",
    "best_team_df = pd.DataFrame.from_dict(best_team_per_round, orient='index', columns=['Team', 'wAV Per Draft Pick'])\n",
    "print(best_team_df)"
   ]
  },
  {
   "cell_type": "code",
   "execution_count": 119,
   "id": "5a23eaf5-826a-4b67-88d4-4c01aef56400",
   "metadata": {},
   "outputs": [
    {
     "name": "stdout",
     "output_type": "stream",
     "text": [
      "         Team  wAV Per Draft Pick\n",
      "1      Eagles           33.960784\n",
      "2  Commanders           18.024390\n",
      "3      Texans           14.233333\n",
      "4     Jaguars           10.218750\n",
      "5      Texans            6.500000\n",
      "6     Jaguars            4.740741\n",
      "7      Ravens            4.055556\n"
     ]
    }
   ],
   "source": [
    "# Table showing which teams have drafted the worst in each round of the NFL Draft based on wAV Per Draft Pick\n",
    "worst_team_per_round = {}\n",
    "\n",
    "for round_num in range(1, 8):  \n",
    "    round_df = df[df['Rnd'] == round_num]\n",
    "    round_team_stats = {}\n",
    "    \n",
    "    for team in round_df['Team'].unique():\n",
    "        team_round_df = round_df[round_df['Team'] == team]\n",
    "        total_picks = len(team_round_df)\n",
    "        total_wAV = team_round_df['wAV'].sum()\n",
    "        wAV_per_pick = total_wAV / total_picks\n",
    "        \n",
    "        round_team_stats[team] = wAV_per_pick\n",
    "    \n",
    "    if round_team_stats:\n",
    "        worst_team = min(round_team_stats, key=round_team_stats.get)\n",
    "        worst_team_per_round[round_num] = (worst_team, round_team_stats[worst_team])\n",
    "\n",
    "worst_team_df = pd.DataFrame.from_dict(worst_team_per_round, orient='index', columns=['Team', 'wAV Per Draft Pick'])\n",
    "print(worst_team_df)"
   ]
  },
  {
   "cell_type": "code",
   "execution_count": 121,
   "id": "1d6dd3ed-fcc7-4d9f-870a-ea1f6e37e370",
   "metadata": {},
   "outputs": [
    {
     "name": "stdout",
     "output_type": "stream",
     "text": [
      "  Best Team  Best wAV Per Draft Pick  Worst Team  Worst wAV Per Draft Pick\n",
      "1    Ravens                52.125000      Eagles                 33.960784\n",
      "2    Giants                34.132075  Commanders                 18.024390\n",
      "3  Steelers                24.371429      Texans                 14.233333\n",
      "4   Packers                21.351852     Jaguars                 10.218750\n",
      "5   Packers                16.819672      Texans                  6.500000\n",
      "6  Steelers                15.482143     Jaguars                  4.740741\n",
      "7    Eagles                14.767442      Ravens                  4.055556\n"
     ]
    },
    {
     "data": {
      "text/plain": [
       "<BarContainer object of 7 artists>"
      ]
     },
     "execution_count": 121,
     "metadata": {},
     "output_type": "execute_result"
    },
    {
     "data": {
      "text/plain": [
       "<BarContainer object of 7 artists>"
      ]
     },
     "execution_count": 121,
     "metadata": {},
     "output_type": "execute_result"
    },
    {
     "data": {
      "text/plain": [
       "Text(0.5, 0, 'Draft Round')"
      ]
     },
     "execution_count": 121,
     "metadata": {},
     "output_type": "execute_result"
    },
    {
     "data": {
      "text/plain": [
       "Text(0, 0.5, 'wAV Per Draft Pick')"
      ]
     },
     "execution_count": 121,
     "metadata": {},
     "output_type": "execute_result"
    },
    {
     "data": {
      "text/plain": [
       "Text(0.5, 1.0, 'Best & Worst Team Per Round By wAV Per Draft Pick')"
      ]
     },
     "execution_count": 121,
     "metadata": {},
     "output_type": "execute_result"
    },
    {
     "data": {
      "text/plain": [
       "<matplotlib.legend.Legend at 0x1475b0c50>"
      ]
     },
     "execution_count": 121,
     "metadata": {},
     "output_type": "execute_result"
    },
    {
     "data": {
      "text/plain": [
       "[<matplotlib.axis.XTick at 0x140fb8710>,\n",
       " <matplotlib.axis.XTick at 0x140fb8230>,\n",
       " <matplotlib.axis.XTick at 0x1471637a0>,\n",
       " <matplotlib.axis.XTick at 0x1475b3e90>,\n",
       " <matplotlib.axis.XTick at 0x14760c950>,\n",
       " <matplotlib.axis.XTick at 0x14760d1f0>,\n",
       " <matplotlib.axis.XTick at 0x14760d430>]"
      ]
     },
     "execution_count": 121,
     "metadata": {},
     "output_type": "execute_result"
    },
    {
     "data": {
      "text/plain": [
       "[Text(1, 0, 'Round 1\\nBest: Ravens\\nWorst: Eagles'),\n",
       " Text(2, 0, 'Round 2\\nBest: Giants\\nWorst: Commanders'),\n",
       " Text(3, 0, 'Round 3\\nBest: Steelers\\nWorst: Texans'),\n",
       " Text(4, 0, 'Round 4\\nBest: Packers\\nWorst: Jaguars'),\n",
       " Text(5, 0, 'Round 5\\nBest: Packers\\nWorst: Texans'),\n",
       " Text(6, 0, 'Round 6\\nBest: Steelers\\nWorst: Jaguars'),\n",
       " Text(7, 0, 'Round 7\\nBest: Eagles\\nWorst: Ravens')]"
      ]
     },
     "execution_count": 121,
     "metadata": {},
     "output_type": "execute_result"
    },
    {
     "data": {
      "image/png": "[encoded data removed]",
      "text/plain": [
       "<Figure size 1200x600 with 1 Axes>"
      ]
     },
     "metadata": {},
     "output_type": "display_data"
    }
   ],
   "source": [
    "# Graph showing the gap between the best and worst team in each round\n",
    "best_worst_team_per_round = {}\n",
    "\n",
    "for round_num in range(1, 8):\n",
    "    round_df = df[df['Rnd'] == round_num]\n",
    "    round_team_stats = {}\n",
    "    \n",
    "    for team in round_df['Team'].unique():\n",
    "        team_round_df = round_df[round_df['Team'] == team]\n",
    "        total_picks = len(team_round_df)\n",
    "        total_wAV = team_round_df['wAV'].sum()\n",
    "        wAV_per_pick = total_wAV / total_picks\n",
    "        \n",
    "        round_team_stats[team] = wAV_per_pick\n",
    "    \n",
    "    if round_team_stats:\n",
    "        best_team = max(round_team_stats, key=round_team_stats.get)\n",
    "        worst_team = min(round_team_stats, key=round_team_stats.get)\n",
    "        best_worst_team_per_round[round_num] = {\n",
    "            'Best Team': best_team, 'Best wAV Per Draft Pick': round_team_stats[best_team],\n",
    "            'Worst Team': worst_team, 'Worst wAV Per Draft Pick': round_team_stats[worst_team]\n",
    "        }\n",
    "\n",
    "best_worst_team_df = pd.DataFrame.from_dict(best_worst_team_per_round, orient='index')\n",
    "print(best_worst_team_df)\n",
    "\n",
    "fig, ax = plt.subplots(figsize=(12,6))\n",
    "width = 0.4\n",
    "rounds = best_worst_team_df.index\n",
    "best_teams = best_worst_team_df['Best Team']\n",
    "worst_teams = best_worst_team_df['Worst Team']\n",
    "ax.bar(rounds - width/2, best_worst_team_df['Best wAV Per Draft Pick'], width=width, label='Best Team', color='green')\n",
    "ax.bar(rounds + width/2, best_worst_team_df['Worst wAV Per Draft Pick'], width=width, label='Worst Team', color='red')\n",
    "ax.set_xlabel('Draft Round')\n",
    "ax.set_ylabel('wAV Per Draft Pick')\n",
    "ax.set_title('Best & Worst Team Per Round By wAV Per Draft Pick')\n",
    "ax.legend()\n",
    "ax.set_xticks(rounds)\n",
    "ax.set_xticklabels([f'Round {r}\\nBest: {best}\\nWorst: {worst}' for r, best, worst in zip(rounds, best_teams, worst_teams)])\n",
    "plt.show()\n",
    "plt.close()"
   ]
  },
  {
   "cell_type": "code",
   "execution_count": 123,
   "id": "2784dc26-6a68-458a-8039-050e9920ce5e",
   "metadata": {},
   "outputs": [
    {
     "name": "stdout",
     "output_type": "stream",
     "text": [
      "            Total 1st Round Picks  Total wAV  wAV Per Draft Pick\n",
      "Ravens                         32     1668.0           52.125000\n",
      "Colts                          59     2884.0           48.881356\n",
      "Texans                         22     1039.0           47.227273\n",
      "Vikings                        61     2876.0           47.147541\n",
      "Rams                           58     2688.0           46.344828\n",
      "Steelers                       57     2586.0           45.368421\n",
      "Titans                         54     2402.0           44.481481\n",
      "Buccaneers                     44     1948.0           44.272727\n",
      "Panthers                       30     1328.0           44.266667\n",
      "Cowboys                        55     2409.0           43.800000\n",
      "Falcons                        57     2462.0           43.192982\n",
      "Patriots                       64     2763.0           43.171875\n",
      "Seahawks                       46     1966.0           42.739130\n",
      "Bills                          60     2558.0           42.633333\n",
      "Chargers                       58     2458.0           42.379310\n",
      "Bears                          57     2324.0           40.771930\n",
      "Dolphins                       54     2150.0           39.814815\n",
      "Jets                           65     2555.0           39.307692\n",
      "Broncos                        48     1876.0           39.083333\n",
      "Commanders                     36     1403.0           38.972222\n",
      "Saints                         58     2230.0           38.448276\n",
      "Lions                          64     2457.0           38.390625\n",
      "49ers                          64     2447.0           38.234375\n",
      "Cardinals                      60     2264.0           37.733333\n",
      "Bengals                        68     2537.0           37.308824\n",
      "Chiefs                         54     1994.0           36.925926\n",
      "Raiders                        58     2108.0           36.344828\n",
      "Giants                         57     2065.0           36.228070\n",
      "Browns                         56     2024.0           36.142857\n",
      "Jaguars                        35     1250.0           35.714286\n",
      "Packers                        66     2244.0           34.000000\n",
      "Eagles                         51     1732.0           33.960784\n"
     ]
    }
   ],
   "source": [
    "# Table showing each teams wAV Per Draft Pick in the 1st round only\n",
    "round_1_stats = {}\n",
    "\n",
    "round_1_df = df[df['Rnd'] == 1] \n",
    "\n",
    "for team in round_1_df['Team'].unique():\n",
    "    team_round_1_df = round_1_df[round_1_df['Team'] == team]\n",
    "    total_picks = len(team_round_1_df)\n",
    "    total_wAV = team_round_1_df['wAV'].sum()\n",
    "    wAV_per_pick = total_wAV / total_picks\n",
    "    \n",
    "    round_1_stats[team] = {\n",
    "        'Total 1st Round Picks': total_picks,\n",
    "        'Total wAV': total_wAV,\n",
    "        'wAV Per Draft Pick': wAV_per_pick\n",
    "    }\n",
    "\n",
    "round_1_df_summary = pd.DataFrame.from_dict(round_1_stats, orient='index')\n",
    "round_1_df_summary = round_1_df_summary.sort_values(by='wAV Per Draft Pick', ascending=False)\n",
    "\n",
    "print(round_1_df_summary)"
   ]
  },
  {
   "cell_type": "code",
   "execution_count": 125,
   "id": "07f84f59-99c9-4353-8bb7-2768fa96d1e5",
   "metadata": {},
   "outputs": [
    {
     "name": "stdout",
     "output_type": "stream",
     "text": [
      "                 Total Picks  Total wAV  wAV Per Draft Pick\n",
      "Saints     1999            1       77.0           77.000000\n",
      "49ers      1985            3      188.0           62.666667\n",
      "Rams       1971            5      308.0           61.600000\n",
      "Commanders 1999            3      173.0           57.666667\n",
      "Saints     2006            7      397.0           56.714286\n",
      "Giants     2004            5      274.0           54.800000\n",
      "Colts      1998            5      265.0           53.000000\n",
      "Dolphins   1983            7      371.0           53.000000\n",
      "Commanders 1969            3      157.0           52.333333\n",
      "Broncos    2006            6      308.0           51.333333\n"
     ]
    }
   ],
   "source": [
    "# Table showing which NFL franchises have had the best individual draft classes based on wAV Per Draft Pick\n",
    "draft_class_stats = {}\n",
    "\n",
    "for (team, year), group in df.groupby(['Team', 'Year']):\n",
    "    total_picks = len(group)\n",
    "    total_wAV = group['wAV'].sum()\n",
    "    wAV_per_pick = total_wAV / total_picks if total_picks > 0 else 0\n",
    "    \n",
    "    draft_class_stats[(team, year)] = {\n",
    "        'Total Picks': total_picks,\n",
    "        'Total wAV': total_wAV,\n",
    "        'wAV Per Draft Pick': wAV_per_pick\n",
    "    }\n",
    "\n",
    "draft_class_df = pd.DataFrame.from_dict(draft_class_stats, orient='index')\n",
    "draft_class_df = draft_class_df.sort_values(by='wAV Per Draft Pick', ascending=False).head(10)\n",
    "\n",
    "print(draft_class_df)"
   ]
  },
  {
   "cell_type": "code",
   "execution_count": 127,
   "id": "f60b9087-0b84-4a83-abc6-faf42334f8ce",
   "metadata": {},
   "outputs": [
    {
     "data": {
      "text/plain": [
       "<Axes: title={'center': 'Top 10 Draft Classes By wAV Per Draft Pick'}>"
      ]
     },
     "execution_count": 127,
     "metadata": {},
     "output_type": "execute_result"
    },
    {
     "data": {
      "text/plain": [
       "Text(0, 0.5, 'wAV Per Draft Pick')"
      ]
     },
     "execution_count": 127,
     "metadata": {},
     "output_type": "execute_result"
    },
    {
     "data": {
      "text/plain": [
       "Text(0.5, 0, 'Team, Year')"
      ]
     },
     "execution_count": 127,
     "metadata": {},
     "output_type": "execute_result"
    },
    {
     "data": {
      "image/png": "[encoded data removed]",
      "text/plain": [
       "<Figure size 1000x500 with 1 Axes>"
      ]
     },
     "metadata": {},
     "output_type": "display_data"
    }
   ],
   "source": [
    "# Graph showing table above\n",
    "draft_class_df['wAV Per Draft Pick'].plot(kind='bar', figsize=(10,5), title='Top 10 Draft Classes By wAV Per Draft Pick')\n",
    "plt.ylabel('wAV Per Draft Pick')\n",
    "plt.xlabel('Team, Year')\n",
    "plt.show()\n",
    "plt.close()"
   ]
  },
  {
   "cell_type": "code",
   "execution_count": 129,
   "id": "f89747f5-aa63-4bcc-89de-d5ab0195966c",
   "metadata": {},
   "outputs": [
    {
     "name": "stdout",
     "output_type": "stream",
     "text": [
      "               Total Picks  Total wAV  wAV Per Draft Pick\n",
      "Team     Year                                            \n",
      "Cowboys  2009           10       17.0               1.700\n",
      "49ers    1977            6       12.0               2.000\n",
      "Rams     1982            8       29.0               3.625\n",
      "Chargers 1998            4       15.0               3.750\n",
      "Jets     1986           10       38.0               3.800\n"
     ]
    }
   ],
   "source": [
    "# Table showing which NFL franchises have had the worst individual draft classes based on wAV Per Draft Pick\n",
    "draft_class_df = pd.DataFrame.from_dict(draft_class_stats, orient='index')\n",
    "draft_class_df.index = pd.MultiIndex.from_tuples(draft_class_df.index, names=['Team', 'Year'])\n",
    "\n",
    "years = draft_class_df.index.get_level_values('Year').astype(int)\n",
    "\n",
    "draft_class_df_filtered = draft_class_df[(draft_class_df['Total Picks'] >= 4) & (years >= 1967) & (years <= 2014)]\n",
    "\n",
    "draft_class_worst_df = draft_class_df_filtered.sort_values(by='wAV Per Draft Pick', ascending=True).head(5)\n",
    "\n",
    "print(draft_class_worst_df)"
   ]
  }
 ],
 "metadata": {
  "kernelspec": {
   "display_name": "Python [conda env:anaconda3] *",
   "language": "python",
   "name": "conda-env-anaconda3-py"
  },
  "language_info": {
   "codemirror_mode": {
    "name": "ipython",
    "version": 3
   },
   "file_extension": ".py",
   "mimetype": "text/x-python",
   "name": "python",
   "nbconvert_exporter": "python",
   "pygments_lexer": "ipython3",
   "version": "3.12.7"
  }
 },
 "nbformat": 4,
 "nbformat_minor": 5
}
